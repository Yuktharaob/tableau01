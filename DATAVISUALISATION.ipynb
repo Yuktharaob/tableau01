{
 "cells": [
  {
   "cell_type": "code",
   "execution_count": 2,
   "id": "8f682622-9a82-4bbd-92e0-3b5e6f3492e2",
   "metadata": {},
   "outputs": [],
   "source": [
    "# This Python 3 environment comes with many helpful analytics libraries installed\n",
    "# It is defined by the kaggle/python docker image: https://github.com/kaggle/docker-python\n",
    "# For example, here's several helpful packages to load in \n",
    "\n",
    "import numpy as np # linear algebra\n",
    "import pandas as pd # data processing, CSV file I/O (e.g. pd.read_csv)\n",
    "\n",
    "# Input data files are available in the \"../input/\" directory.\n",
    "# For example, running this (by clicking run or pressing Shift+Enter) will list all files under the input directory\n",
    "\n",
    "import os\n",
    "for dirname, _, filenames in os.walk('/kaggle/input'):\n",
    "    for filename in filenames:\n",
    "        print(os.path.join(dirname, filename))\n",
    "\n",
    "# Any results you write to the current directory are saved as output."
   ]
  },
  {
   "cell_type": "markdown",
   "id": "65ce31ef-0a76-4554-91e5-fd9f05a1499d",
   "metadata": {},
   "source": [
    "# **TOTAL SURVIVAL RATE**"
   ]
  },
  {
   "cell_type": "code",
   "execution_count": 4,
   "id": "9395d045-7c1b-4d15-91fa-35bf01fea602",
   "metadata": {},
   "outputs": [
    {
     "data": {
      "text/html": [
       "<div class='tableauPlaceholder' id='viz1569149522033' style='position: relative'><noscript><a href='#'><img alt=' ' src='https:&#47;&#47;public.tableau.com&#47;static&#47;images&#47;Ge&#47;Genderandclasssurvivalrates1&#47;TotalsurvivalStatus&#47;1_rss.png' style='border: none' /></a></noscript><object class='tableauViz'  style='display:none;'><param name='host_url' value='https%3A%2F%2Fpublic.tableau.com%2F' /> <param name='embed_code_version' value='3' /> <param name='site_root' value='' /><param name='name' value='Genderandclasssurvivalrates1&#47;TotalsurvivalStatus' /><param name='tabs' value='no' /><param name='toolbar' value='yes' /><param name='static_image' value='https:&#47;&#47;public.tableau.com&#47;static&#47;images&#47;Ge&#47;Genderandclasssurvivalrates1&#47;TotalsurvivalStatus&#47;1.png' /> <param name='animate_transition' value='yes' /><param name='display_static_image' value='yes' /><param name='display_spinner' value='yes' /><param name='display_overlay' value='yes' /><param name='display_count' value='yes' /></object></div>                <script type='text/javascript'>                    var divElement = document.getElementById('viz1569149522033');                    var vizElement = divElement.getElementsByTagName('object')[0];                    vizElement.style.width='100%';vizElement.style.height=(divElement.offsetWidth*0.75)+'px';                    var scriptElement = document.createElement('script');                    scriptElement.src = 'https://public.tableau.com/javascripts/api/viz_v1.js';                    vizElement.parentNode.insertBefore(scriptElement, vizElement);                </script>\n"
      ],
      "text/plain": [
       "<IPython.core.display.HTML object>"
      ]
     },
     "metadata": {},
     "output_type": "display_data"
    }
   ],
   "source": [
    "%%HTML\n",
    "<div class='tableauPlaceholder' id='viz1569149522033' style='position: relative'><noscript><a href='#'><img alt=' ' src='https:&#47;&#47;public.tableau.com&#47;static&#47;images&#47;Ge&#47;Genderandclasssurvivalrates1&#47;TotalsurvivalStatus&#47;1_rss.png' style='border: none' /></a></noscript><object class='tableauViz'  style='display:none;'><param name='host_url' value='https%3A%2F%2Fpublic.tableau.com%2F' /> <param name='embed_code_version' value='3' /> <param name='site_root' value='' /><param name='name' value='Genderandclasssurvivalrates1&#47;TotalsurvivalStatus' /><param name='tabs' value='no' /><param name='toolbar' value='yes' /><param name='static_image' value='https:&#47;&#47;public.tableau.com&#47;static&#47;images&#47;Ge&#47;Genderandclasssurvivalrates1&#47;TotalsurvivalStatus&#47;1.png' /> <param name='animate_transition' value='yes' /><param name='display_static_image' value='yes' /><param name='display_spinner' value='yes' /><param name='display_overlay' value='yes' /><param name='display_count' value='yes' /></object></div>                <script type='text/javascript'>                    var divElement = document.getElementById('viz1569149522033');                    var vizElement = divElement.getElementsByTagName('object')[0];                    vizElement.style.width='100%';vizElement.style.height=(divElement.offsetWidth*0.75)+'px';                    var scriptElement = document.createElement('script');                    scriptElement.src = 'https://public.tableau.com/javascripts/api/viz_v1.js';                    vizElement.parentNode.insertBefore(scriptElement, vizElement);                </script>"
   ]
  },
  {
   "cell_type": "markdown",
   "id": "e2856f76-a798-40bb-9ffe-19c7e8023e3c",
   "metadata": {},
   "source": [
    "\n",
    "# Here's a step-by-step explanation:\n",
    "\n",
    "1. `%%HTML` - This is a cell magic command in Jupyter Notebook that allows you to write HTML code directly in the cell. The output will be rendered as HTML when the cell is executed.\n",
    "\n",
    "2. `<div class='tableauPlaceholder' id='viz1569149522033' style='position: relative'>` - This line creates a `div` element that serves as a placeholder for the Tableau visualization. The `id` attribute uniquely identifies this element, and the `style` attribute positions it relatively.\n",
    "\n",
    "3. `<noscript>` - This tag contains content that will be displayed if JavaScript is disabled in the user's browser. It includes a link to an image that represents the visualization.\n",
    "\n",
    "4. `<object class='tableauViz' style='display:none;'>` - This `object` element is used to embed the Tableau visualization. The `style='display:none;'` hides the object until it is fully loaded.\n",
    "\n",
    "5. `<param>` tags - These tags provide parameters to configure the Tableau visualization, such as the host URL, the name of the visualization, and options for displaying the toolbar and static image.\n",
    "\n",
    "6. `<script type='text/javascript'>` - This script block contains JavaScript code that dynamically adjusts the size of the embedded visualization and loads the Tableau JavaScript API.\n",
    "\n",
    "7. `var divElement = document.getElementById('viz1569149522033');` - This line retrieves the `div` element by its ID.\n",
    "\n",
    "8. `var vizElement = divElement.getElementsByTagName('object')[0];` - This retrieves the first `object` element within the `div`.\n",
    "\n",
    "9. `vizElement.style.width='100%';` - This sets the width of the visualization to 100% of the containing `div`.\n",
    "\n",
    "10. `vizElement.style.height=(divElement.offsetWidth*0.75)+'px';` - This calculates and sets the height of the visualization to 75% of the `div`'s width, maintaining a responsive aspect ratio.\n",
    "\n",
    "11. `var scriptElement = document.createElement('script');` - This creates a new script element to load the Tableau JavaScript API.\n",
    "\n",
    "12. `scriptElement.src = 'https://public.tableau.com/javascripts/api/viz_v1.js';` - This sets the source of the script to the Tableau API, which is necessary for the visualization to function.\n",
    "\n",
    "13. `vizElement.parentNode.insertBefore(scriptElement, vizElement);` - This line inserts the script element before the `object` element in the DOM, ensuring that the Tableau API is loaded and ready to use.\n"
   ]
  },
  {
   "cell_type": "markdown",
   "id": "34c74e9d-169b-4cc0-bfd6-1b222e6bf2b8",
   "metadata": {},
   "source": [
    "# **AVERAGE PASSENGER FARE BY GENDER**"
   ]
  },
  {
   "cell_type": "code",
   "execution_count": 8,
   "id": "a75a688d-e75f-4b2d-9aee-06495507b7cf",
   "metadata": {},
   "outputs": [
    {
     "data": {
      "text/html": [
       "<div class='tableauPlaceholder' id='viz1569149922250' style='position: relative'><noscript><a href='#'><img alt=' ' src='https:&#47;&#47;public.tableau.com&#47;static&#47;images&#47;Ge&#47;Genderandclasssurvivalrates2&#47;AveragePassengerFarebygender&#47;1_rss.png' style='border: none' /></a></noscript><object class='tableauViz'  style='display:none;'><param name='host_url' value='https%3A%2F%2Fpublic.tableau.com%2F' /> <param name='embed_code_version' value='3' /> <param name='site_root' value='' /><param name='name' value='Genderandclasssurvivalrates2&#47;AveragePassengerFarebygender' /><param name='tabs' value='no' /><param name='toolbar' value='yes' /><param name='static_image' value='https:&#47;&#47;public.tableau.com&#47;static&#47;images&#47;Ge&#47;Genderandclasssurvivalrates2&#47;AveragePassengerFarebygender&#47;1.png' /> <param name='animate_transition' value='yes' /><param name='display_static_image' value='yes' /><param name='display_spinner' value='yes' /><param name='display_overlay' value='yes' /><param name='display_count' value='yes' /></object></div>                <script type='text/javascript'>                    var divElement = document.getElementById('viz1569149922250');                    var vizElement = divElement.getElementsByTagName('object')[0];                    vizElement.style.width='100%';vizElement.style.height=(divElement.offsetWidth*0.75)+'px';                    var scriptElement = document.createElement('script');                    scriptElement.src = 'https://public.tableau.com/javascripts/api/viz_v1.js';                    vizElement.parentNode.insertBefore(scriptElement, vizElement);                </script>\n"
      ],
      "text/plain": [
       "<IPython.core.display.HTML object>"
      ]
     },
     "metadata": {},
     "output_type": "display_data"
    }
   ],
   "source": [
    "%%HTML\n",
    "<div class='tableauPlaceholder' id='viz1569149922250' style='position: relative'><noscript><a href='#'><img alt=' ' src='https:&#47;&#47;public.tableau.com&#47;static&#47;images&#47;Ge&#47;Genderandclasssurvivalrates2&#47;AveragePassengerFarebygender&#47;1_rss.png' style='border: none' /></a></noscript><object class='tableauViz'  style='display:none;'><param name='host_url' value='https%3A%2F%2Fpublic.tableau.com%2F' /> <param name='embed_code_version' value='3' /> <param name='site_root' value='' /><param name='name' value='Genderandclasssurvivalrates2&#47;AveragePassengerFarebygender' /><param name='tabs' value='no' /><param name='toolbar' value='yes' /><param name='static_image' value='https:&#47;&#47;public.tableau.com&#47;static&#47;images&#47;Ge&#47;Genderandclasssurvivalrates2&#47;AveragePassengerFarebygender&#47;1.png' /> <param name='animate_transition' value='yes' /><param name='display_static_image' value='yes' /><param name='display_spinner' value='yes' /><param name='display_overlay' value='yes' /><param name='display_count' value='yes' /></object></div>                <script type='text/javascript'>                    var divElement = document.getElementById('viz1569149922250');                    var vizElement = divElement.getElementsByTagName('object')[0];                    vizElement.style.width='100%';vizElement.style.height=(divElement.offsetWidth*0.75)+'px';                    var scriptElement = document.createElement('script');                    scriptElement.src = 'https://public.tableau.com/javascripts/api/viz_v1.js';                    vizElement.parentNode.insertBefore(scriptElement, vizElement);                </script>"
   ]
  },
  {
   "cell_type": "markdown",
   "id": "5e3b93f9-1bf3-41be-9381-713e14666239",
   "metadata": {},
   "source": [
    "\n",
    "# Here's a step-by-step explanation:\n",
    "\n",
    "1. `%%HTML` - This is a cell magic command in Jupyter Notebook that allows you to write HTML code directly in the cell. The output will be rendered as HTML when the cell is executed.\n",
    "\n",
    "2. `<div class='tableauPlaceholder' id='viz1569149922250' style='position: relative'>` - This line creates a `div` element that serves as a placeholder for the Tableau visualization. The `id` attribute uniquely identifies this element, and the `style` attribute positions it relatively.\n",
    "\n",
    "3. `<noscript>` - This tag contains content that will be displayed if JavaScript is disabled in the user's browser. It includes a link to an image that represents the Tableau visualization.\n",
    "\n",
    "4. `<object class='tableauViz' style='display:none;'>` - This `object` element is used to embed the Tableau visualization. The `style='display:none;'` hides the object until it is fully loaded.\n",
    "\n",
    "5. `<param>` tags - These tags provide parameters to the Tableau visualization, such as the host URL, the name of the visualization, and options for displaying the toolbar and static image.\n",
    "\n",
    "6. `<script type='text/javascript'>` - This script block contains JavaScript code that dynamically adjusts the size of the embedded visualization and loads the Tableau JavaScript API.\n",
    "\n",
    "7. `var divElement = document.getElementById('viz1569149922250');` - This line retrieves the `div` element by its ID.\n",
    "\n",
    "8. `var vizElement = divElement.getElementsByTagName('object')[0];` - This retrieves the first `object` element within the `div`.\n",
    "\n",
    "9. `vizElement.style.width='100%';` - This sets the width of the visualization to 100% of the containing `div`.\n",
    "\n",
    "10. `vizElement.style.height=(divElement.offsetWidth*0.75)+'px';` - This calculates the height of the visualization based on the width of the `div`, maintaining a 4:3 aspect ratio.\n",
    "\n",
    "11. `var scriptElement = document.createElement('script');` - This creates a new script element to load the Tableau JavaScript API.\n",
    "\n",
    "12. `scriptElement.src = 'https://public.tableau.com/javascripts/api/viz_v1.js';` - This sets the source of the script to the Tableau API.\n",
    "\n",
    "13. `vizElement.parentNode.insertBefore(scriptElement, vizElement);` - This inserts the script element before the `object` element in the DOM, ensuring the Tableau visualization is properly initialized.\n",
    "\n"
   ]
  },
  {
   "cell_type": "markdown",
   "id": "a8bfe629-ce12-49a6-982a-635b1a63df40",
   "metadata": {},
   "source": [
    "# **AVERAGE PASSENGER FARE BY CLASS**"
   ]
  },
  {
   "cell_type": "code",
   "execution_count": 12,
   "id": "8fa11569-1edb-475d-bf53-a93bac2cf326",
   "metadata": {},
   "outputs": [
    {
     "data": {
      "text/html": [
       "<div class='tableauPlaceholder' id='viz1569150116745' style='position: relative'><noscript><a href='#'><img alt=' ' src='https:&#47;&#47;public.tableau.com&#47;static&#47;images&#47;Ge&#47;Genderandclasssurvivalrates3&#47;AveragePassengerFarebyClass&#47;1_rss.png' style='border: none' /></a></noscript><object class='tableauViz'  style='display:none;'><param name='host_url' value='https%3A%2F%2Fpublic.tableau.com%2F' /> <param name='embed_code_version' value='3' /> <param name='site_root' value='' /><param name='name' value='Genderandclasssurvivalrates3&#47;AveragePassengerFarebyClass' /><param name='tabs' value='no' /><param name='toolbar' value='yes' /><param name='static_image' value='https:&#47;&#47;public.tableau.com&#47;static&#47;images&#47;Ge&#47;Genderandclasssurvivalrates3&#47;AveragePassengerFarebyClass&#47;1.png' /> <param name='animate_transition' value='yes' /><param name='display_static_image' value='yes' /><param name='display_spinner' value='yes' /><param name='display_overlay' value='yes' /><param name='display_count' value='yes' /></object></div>                <script type='text/javascript'>                    var divElement = document.getElementById('viz1569150116745');                    var vizElement = divElement.getElementsByTagName('object')[0];                    vizElement.style.width='100%';vizElement.style.height=(divElement.offsetWidth*0.75)+'px';                    var scriptElement = document.createElement('script');                    scriptElement.src = 'https://public.tableau.com/javascripts/api/viz_v1.js';                    vizElement.parentNode.insertBefore(scriptElement, vizElement);                </script>\n"
      ],
      "text/plain": [
       "<IPython.core.display.HTML object>"
      ]
     },
     "metadata": {},
     "output_type": "display_data"
    }
   ],
   "source": [
    "%%HTML\n",
    "<div class='tableauPlaceholder' id='viz1569150116745' style='position: relative'><noscript><a href='#'><img alt=' ' src='https:&#47;&#47;public.tableau.com&#47;static&#47;images&#47;Ge&#47;Genderandclasssurvivalrates3&#47;AveragePassengerFarebyClass&#47;1_rss.png' style='border: none' /></a></noscript><object class='tableauViz'  style='display:none;'><param name='host_url' value='https%3A%2F%2Fpublic.tableau.com%2F' /> <param name='embed_code_version' value='3' /> <param name='site_root' value='' /><param name='name' value='Genderandclasssurvivalrates3&#47;AveragePassengerFarebyClass' /><param name='tabs' value='no' /><param name='toolbar' value='yes' /><param name='static_image' value='https:&#47;&#47;public.tableau.com&#47;static&#47;images&#47;Ge&#47;Genderandclasssurvivalrates3&#47;AveragePassengerFarebyClass&#47;1.png' /> <param name='animate_transition' value='yes' /><param name='display_static_image' value='yes' /><param name='display_spinner' value='yes' /><param name='display_overlay' value='yes' /><param name='display_count' value='yes' /></object></div>                <script type='text/javascript'>                    var divElement = document.getElementById('viz1569150116745');                    var vizElement = divElement.getElementsByTagName('object')[0];                    vizElement.style.width='100%';vizElement.style.height=(divElement.offsetWidth*0.75)+'px';                    var scriptElement = document.createElement('script');                    scriptElement.src = 'https://public.tableau.com/javascripts/api/viz_v1.js';                    vizElement.parentNode.insertBefore(scriptElement, vizElement);                </script>"
   ]
  },
  {
   "cell_type": "markdown",
   "id": "a7a93193-1028-4304-8de1-5bf5f6a8daf1",
   "metadata": {},
   "source": [
    "# Here's a step-by-step explanation:\n",
    "\n",
    "1. `%%HTML` - This is a cell magic command in Jupyter Notebook that allows you to write HTML code directly in the cell. The output will be rendered as HTML when the cell is executed.\n",
    "\n",
    "2. `<div class='tableauPlaceholder' id='viz1569150116745' style='position: relative'>` - This line creates a `div` element that serves as a placeholder for the Tableau visualization. The `id` attribute uniquely identifies this element, and the `style` attribute positions it relatively.\n",
    "\n",
    "3. `<noscript>` - This tag contains content that will be displayed if JavaScript is disabled in the user's browser. It includes a link to an image that represents the visualization.\n",
    "\n",
    "4. `<object class='tableauViz' style='display:none;'>` - This `object` element is used to embed the Tableau visualization. The `style='display:none;'` hides the object until it is fully loaded.\n",
    "\n",
    "5. `<param>` tags - These tags provide parameters to the Tableau visualization, such as:\n",
    "   - `host_url`: The URL of the Tableau server.\n",
    "   - `embed_code_version`: The version of the embed code.\n",
    "   - `name`: The specific Tableau visualization to display.\n",
    "   - `static_image`: A URL to a static image of the visualization.\n",
    "   - Other parameters control the display of various elements like tabs, toolbars, and animations.\n",
    "\n",
    "6. `<script type='text/javascript'>` - This script block contains JavaScript code that dynamically adjusts the size of the embedded visualization and loads the Tableau JavaScript API.\n",
    "\n",
    "7. `var divElement = document.getElementById('viz1569150116745');` - This line retrieves the `div` element by its ID.\n",
    "\n",
    "8. `var vizElement = divElement.getElementsByTagName('object')[0];` - This retrieves the first `object` element within the `div`.\n",
    "\n",
    "9. `vizElement.style.width='100%';` - This sets the width of the visualization to 100% of the containing `div`.\n",
    "\n",
    "10. `vizElement.style.height=(divElement.offsetWidth*0.75)+'px';` - This sets the height of the visualization to 75% of the width of the containing `div`, maintaining a responsive aspect ratio.\n",
    "\n",
    "11. `var scriptElement = document.createElement('script');` - This creates a new script element.\n",
    "\n",
    "12. `scriptElement.src = 'https://public.tableau.com/javascripts/api/viz_v1.js';` - This sets the source of the script to the Tableau JavaScript API, which is necessary for rendering the visualization.\n",
    "\n",
    "13. `vizElement.parentNode.insertBefore(scriptElement, vizElement);` - This inserts the newly created script element before the `object` element in the DOM, ensuring that the Tableau API is loaded and the visualization is rendered correctly.\n",
    "\n"
   ]
  },
  {
   "cell_type": "markdown",
   "id": "3fe5467d-23d1-4c70-a858-307ed0d38e73",
   "metadata": {},
   "source": [
    "# **DISTRIBUTION BY AGE**"
   ]
  },
  {
   "cell_type": "code",
   "execution_count": 18,
   "id": "ddbadb03-85fe-462f-906b-6e246d9ad5b7",
   "metadata": {},
   "outputs": [
    {
     "data": {
      "text/html": [
       "<div class='tableauPlaceholder' id='viz1569150336633' style='position: relative'><noscript><a href='#'><img alt=' ' src='https:&#47;&#47;public.tableau.com&#47;static&#47;images&#47;Ge&#47;Genderandclasssurvivalrates4&#47;DistributionbyAge&#47;1_rss.png' style='border: none' /></a></noscript><object class='tableauViz'  style='display:none;'><param name='host_url' value='https%3A%2F%2Fpublic.tableau.com%2F' /> <param name='embed_code_version' value='3' /> <param name='site_root' value='' /><param name='name' value='Genderandclasssurvivalrates4&#47;DistributionbyAge' /><param name='tabs' value='no' /><param name='toolbar' value='yes' /><param name='static_image' value='https:&#47;&#47;public.tableau.com&#47;static&#47;images&#47;Ge&#47;Genderandclasssurvivalrates4&#47;DistributionbyAge&#47;1.png' /> <param name='animate_transition' value='yes' /><param name='display_static_image' value='yes' /><param name='display_spinner' value='yes' /><param name='display_overlay' value='yes' /><param name='display_count' value='yes' /></object></div>                <script type='text/javascript'>                    var divElement = document.getElementById('viz1569150336633');                    var vizElement = divElement.getElementsByTagName('object')[0];                    vizElement.style.width='100%';vizElement.style.height=(divElement.offsetWidth*0.75)+'px';                    var scriptElement = document.createElement('script');                    scriptElement.src = 'https://public.tableau.com/javascripts/api/viz_v1.js';                    vizElement.parentNode.insertBefore(scriptElement, vizElement);                </script>\n"
      ],
      "text/plain": [
       "<IPython.core.display.HTML object>"
      ]
     },
     "metadata": {},
     "output_type": "display_data"
    }
   ],
   "source": [
    "%%HTML\n",
    "<div class='tableauPlaceholder' id='viz1569150336633' style='position: relative'><noscript><a href='#'><img alt=' ' src='https:&#47;&#47;public.tableau.com&#47;static&#47;images&#47;Ge&#47;Genderandclasssurvivalrates4&#47;DistributionbyAge&#47;1_rss.png' style='border: none' /></a></noscript><object class='tableauViz'  style='display:none;'><param name='host_url' value='https%3A%2F%2Fpublic.tableau.com%2F' /> <param name='embed_code_version' value='3' /> <param name='site_root' value='' /><param name='name' value='Genderandclasssurvivalrates4&#47;DistributionbyAge' /><param name='tabs' value='no' /><param name='toolbar' value='yes' /><param name='static_image' value='https:&#47;&#47;public.tableau.com&#47;static&#47;images&#47;Ge&#47;Genderandclasssurvivalrates4&#47;DistributionbyAge&#47;1.png' /> <param name='animate_transition' value='yes' /><param name='display_static_image' value='yes' /><param name='display_spinner' value='yes' /><param name='display_overlay' value='yes' /><param name='display_count' value='yes' /></object></div>                <script type='text/javascript'>                    var divElement = document.getElementById('viz1569150336633');                    var vizElement = divElement.getElementsByTagName('object')[0];                    vizElement.style.width='100%';vizElement.style.height=(divElement.offsetWidth*0.75)+'px';                    var scriptElement = document.createElement('script');                    scriptElement.src = 'https://public.tableau.com/javascripts/api/viz_v1.js';                    vizElement.parentNode.insertBefore(scriptElement, vizElement);                </script>"
   ]
  },
  {
   "cell_type": "markdown",
   "id": "c8008641-df7b-47e0-b59a-3af747088a74",
   "metadata": {},
   "source": [
    "# Here's a step-by-step explanation:\n",
    "\n",
    "1. `%%HTML` - This is a cell magic command in Jupyter Notebook that allows you to write HTML code directly in the cell. The output will be rendered as HTML when the cell is executed.\n",
    "\n",
    "2. `<div class='tableauPlaceholder' id='viz1569150336633' style='position: relative'>` - This line creates a `div` element that serves as a placeholder for the Tableau visualization. The `id` attribute uniquely identifies this element, and the `style` attribute positions it relatively.\n",
    "\n",
    "3. `<noscript>` - This tag contains content that will be displayed if JavaScript is disabled in the user's browser. It includes a link to an image that represents the visualization.\n",
    "\n",
    "4. `<object class='tableauViz' style='display:none;'>` - This `object` element is used to embed the Tableau visualization. The `style='display:none;'` hides the object until it is fully loaded.\n",
    "\n",
    "5. `<param>` tags - These tags provide parameters to the Tableau visualization, such as the host URL, the name of the visualization, and options for displaying the toolbar and static image.\n",
    "\n",
    "6. `<script type='text/javascript'>` - This script block contains JavaScript code that dynamically adjusts the size of the embedded visualization and loads the Tableau JavaScript API.\n",
    "\n",
    "7. `var divElement = document.getElementById('viz1569150336633');` - This line retrieves the `div` element by its ID.\n",
    "\n",
    "8. `var vizElement = divElement.getElementsByTagName('object')[0];` - This retrieves the first `object` element within the `div`.\n",
    "\n",
    "9. `vizElement.style.width='100%';` - This sets the width of the visualization to 100% of the containing `div`.\n",
    "\n",
    "10. `vizElement.style.height=(divElement.offsetWidth*0.75)+'px';` - This calculates the height of the visualization based on the width of the `div`, maintaining a 4:3 aspect ratio.\n",
    "\n",
    "11. `var scriptElement = document.createElement('script');` - This creates a new script element to load the Tableau JavaScript API.\n",
    "\n",
    "12. `scriptElement.src = 'https://public.tableau.com/javascripts/api/viz_v1.js';` - This sets the source of the script to the Tableau API.\n",
    "\n",
    "13. `vizElement.parentNode.insertBefore(scriptElement, vizElement);` - This inserts the script element before the `object` element in the DOM, ensuring the Tableau visualization is properly initialized.\n",
    "\n"
   ]
  },
  {
   "cell_type": "markdown",
   "id": "06a30c70-54ae-4e44-a8e0-214f966afa1a",
   "metadata": {},
   "source": [
    "# **TOTAL AND SURVIVED PASSENGERS BY GENDER AND CLASS**"
   ]
  },
  {
   "cell_type": "code",
   "execution_count": 32,
   "id": "0a0b22b3-5d09-4a08-a1bb-5f7ecda637fa",
   "metadata": {},
   "outputs": [
    {
     "data": {
      "text/html": [
       "<div class='tableauPlaceholder' id='viz1569201998144' style='position: relative'><noscript><a href='#'><img alt=' ' src='https:&#47;&#47;public.tableau.com&#47;static&#47;images&#47;Ge&#47;Genderandclasssurvivalrates5&#47;Sheet5&#47;1_rss.png' style='border: none' /></a></noscript><object class='tableauViz'  style='display:none;'><param name='host_url' value='https%3A%2F%2Fpublic.tableau.com%2F' /> <param name='embed_code_version' value='3' /> <param name='site_root' value='' /><param name='name' value='Genderandclasssurvivalrates5&#47;Sheet5' /><param name='tabs' value='no' /><param name='toolbar' value='yes' /><param name='static_image' value='https:&#47;&#47;public.tableau.com&#47;static&#47;images&#47;Ge&#47;Genderandclasssurvivalrates5&#47;Sheet5&#47;1.png' /> <param name='animate_transition' value='yes' /><param name='display_static_image' value='yes' /><param name='display_spinner' value='yes' /><param name='display_overlay' value='yes' /><param name='display_count' value='yes' /></object></div>                <script type='text/javascript'>                    var divElement = document.getElementById('viz1569201998144');                    var vizElement = divElement.getElementsByTagName('object')[0];                    vizElement.style.width='100%';vizElement.style.height=(divElement.offsetWidth*0.75)+'px';                    var scriptElement = document.createElement('script');                    scriptElement.src = 'https://public.tableau.com/javascripts/api/viz_v1.js';                    vizElement.parentNode.insertBefore(scriptElement, vizElement);                </script>\n"
      ],
      "text/plain": [
       "<IPython.core.display.HTML object>"
      ]
     },
     "metadata": {},
     "output_type": "display_data"
    }
   ],
   "source": [
    "%%HTML\n",
    "<div class='tableauPlaceholder' id='viz1569201998144' style='position: relative'><noscript><a href='#'><img alt=' ' src='https:&#47;&#47;public.tableau.com&#47;static&#47;images&#47;Ge&#47;Genderandclasssurvivalrates5&#47;Sheet5&#47;1_rss.png' style='border: none' /></a></noscript><object class='tableauViz'  style='display:none;'><param name='host_url' value='https%3A%2F%2Fpublic.tableau.com%2F' /> <param name='embed_code_version' value='3' /> <param name='site_root' value='' /><param name='name' value='Genderandclasssurvivalrates5&#47;Sheet5' /><param name='tabs' value='no' /><param name='toolbar' value='yes' /><param name='static_image' value='https:&#47;&#47;public.tableau.com&#47;static&#47;images&#47;Ge&#47;Genderandclasssurvivalrates5&#47;Sheet5&#47;1.png' /> <param name='animate_transition' value='yes' /><param name='display_static_image' value='yes' /><param name='display_spinner' value='yes' /><param name='display_overlay' value='yes' /><param name='display_count' value='yes' /></object></div>                <script type='text/javascript'>                    var divElement = document.getElementById('viz1569201998144');                    var vizElement = divElement.getElementsByTagName('object')[0];                    vizElement.style.width='100%';vizElement.style.height=(divElement.offsetWidth*0.75)+'px';                    var scriptElement = document.createElement('script');                    scriptElement.src = 'https://public.tableau.com/javascripts/api/viz_v1.js';                    vizElement.parentNode.insertBefore(scriptElement, vizElement);                </script>"
   ]
  },
  {
   "cell_type": "markdown",
   "id": "0ca4eb41-6676-4c4d-8fa1-76a331bc238b",
   "metadata": {},
   "source": [
    "# Here's a step-by-step explanation:\n",
    "\n",
    "1. `%%HTML` - This is a cell magic command that tells Jupyter to interpret the entire cell as HTML code. It allows you to render HTML content directly in the notebook.\n",
    "\n",
    "2. `<div class='tableauPlaceholder' id='viz1569201998144' style='position: relative'>` - This line creates a `div` element with a class of `tableauPlaceholder` and a unique ID. The `style` attribute positions the element relatively on the page.\n",
    "\n",
    "3. `<noscript>` - This tag contains content that will be displayed if JavaScript is disabled in the user's browser. It provides a fallback link to an image.\n",
    "\n",
    "4. `<a href='#'><img alt=' ' src='...' style='border: none' /></a>` - This anchor tag contains an image that serves as a placeholder for the Tableau visualization. The `src` attribute points to a static image of the visualization.\n",
    "\n",
    "5. `<object class='tableauViz' style='display:none;'>` - This `object` tag is used to embed the Tableau visualization. The `style='display:none;'` hides the object until it is fully loaded.\n",
    "\n",
    "6. `<param>` tags - These tags provide parameters to configure the Tableau visualization, such as the host URL, embed code version, and various display options (e.g., whether to show tabs or toolbars).\n",
    "\n",
    "7. `<script type='text/javascript'>` - This script block contains JavaScript code that dynamically adjusts the size of the embedded visualization and loads the Tableau JavaScript API.\n",
    "\n",
    "8. `var divElement = document.getElementById('viz1569201998144');` - This line retrieves the `div` element by its ID.\n",
    "\n",
    "9. `var vizElement = divElement.getElementsByTagName('object')[0];` - This retrieves the first `object` element within the `div`.\n",
    "\n",
    "10. `vizElement.style.width='100%';` - This sets the width of the visualization to 100% of the containing `div`.\n",
    "\n",
    "11. `vizElement.style.height=(divElement.offsetWidth*0.75)+'px';` - This calculates the height of the visualization based on the width of the `div`, maintaining a 4:3 aspect ratio.\n",
    "\n",
    "12. `var scriptElement = document.createElement('script');` - This creates a new script element.\n",
    "\n",
    "13. `scriptElement.src = 'https://public.tableau.com/javascripts/api/viz_v1.js';` - This sets the source of the script to the Tableau JavaScript API.\n",
    "\n",
    "14. `vizElement.parentNode.insertBefore(scriptElement, vizElement);` - This inserts the script element before the `object` element in the DOM, allowing the Tableau visualization to be rendered.\n"
   ]
  },
  {
   "cell_type": "markdown",
   "id": "ee61e372-7956-4e55-ac6d-515fd70134b2",
   "metadata": {},
   "source": [
    "# **TOTAL AND SURVIVED PASSENGERS BY AGE AND GENDER**"
   ]
  },
  {
   "cell_type": "code",
   "execution_count": 34,
   "id": "1c018795-2310-4af8-81d2-ef16f66794aa",
   "metadata": {},
   "outputs": [
    {
     "data": {
      "text/html": [
       "<div class='tableauPlaceholder' id='viz1569150969818' style='position: relative'><noscript><a href='#'><img alt=' ' src='https:&#47;&#47;public.tableau.com&#47;static&#47;images&#47;Ge&#47;Genderandclasssurvivalrates6&#47;Sheet6&#47;1_rss.png' style='border: none' /></a></noscript><object class='tableauViz'  style='display:none;'><param name='host_url' value='https%3A%2F%2Fpublic.tableau.com%2F' /> <param name='embed_code_version' value='3' /> <param name='site_root' value='' /><param name='name' value='Genderandclasssurvivalrates6&#47;Sheet6' /><param name='tabs' value='no' /><param name='toolbar' value='yes' /><param name='static_image' value='https:&#47;&#47;public.tableau.com&#47;static&#47;images&#47;Ge&#47;Genderandclasssurvivalrates6&#47;Sheet6&#47;1.png' /> <param name='animate_transition' value='yes' /><param name='display_static_image' value='yes' /><param name='display_spinner' value='yes' /><param name='display_overlay' value='yes' /><param name='display_count' value='yes' /></object></div>                <script type='text/javascript'>                    var divElement = document.getElementById('viz1569150969818');                    var vizElement = divElement.getElementsByTagName('object')[0];                    vizElement.style.width='100%';vizElement.style.height=(divElement.offsetWidth*0.75)+'px';                    var scriptElement = document.createElement('script');                    scriptElement.src = 'https://public.tableau.com/javascripts/api/viz_v1.js';                    vizElement.parentNode.insertBefore(scriptElement, vizElement);                </script>\n"
      ],
      "text/plain": [
       "<IPython.core.display.HTML object>"
      ]
     },
     "metadata": {},
     "output_type": "display_data"
    }
   ],
   "source": [
    "%%HTML\n",
    "<div class='tableauPlaceholder' id='viz1569150969818' style='position: relative'><noscript><a href='#'><img alt=' ' src='https:&#47;&#47;public.tableau.com&#47;static&#47;images&#47;Ge&#47;Genderandclasssurvivalrates6&#47;Sheet6&#47;1_rss.png' style='border: none' /></a></noscript><object class='tableauViz'  style='display:none;'><param name='host_url' value='https%3A%2F%2Fpublic.tableau.com%2F' /> <param name='embed_code_version' value='3' /> <param name='site_root' value='' /><param name='name' value='Genderandclasssurvivalrates6&#47;Sheet6' /><param name='tabs' value='no' /><param name='toolbar' value='yes' /><param name='static_image' value='https:&#47;&#47;public.tableau.com&#47;static&#47;images&#47;Ge&#47;Genderandclasssurvivalrates6&#47;Sheet6&#47;1.png' /> <param name='animate_transition' value='yes' /><param name='display_static_image' value='yes' /><param name='display_spinner' value='yes' /><param name='display_overlay' value='yes' /><param name='display_count' value='yes' /></object></div>                <script type='text/javascript'>                    var divElement = document.getElementById('viz1569150969818');                    var vizElement = divElement.getElementsByTagName('object')[0];                    vizElement.style.width='100%';vizElement.style.height=(divElement.offsetWidth*0.75)+'px';                    var scriptElement = document.createElement('script');                    scriptElement.src = 'https://public.tableau.com/javascripts/api/viz_v1.js';                    vizElement.parentNode.insertBefore(scriptElement, vizElement);                </script>"
   ]
  },
  {
   "cell_type": "markdown",
   "id": "4df795aa-80ba-4091-9982-b69004ec6ec5",
   "metadata": {},
   "source": [
    "# Here's a step-by-step explanation of the code:\n",
    "\n",
    "1. `%%HTML` - This is a cell magic command that tells Jupyter Notebook to interpret the entire cell as HTML code. It allows you to render HTML content directly in the notebook.\n",
    "\n",
    "2. `<div class='tableauPlaceholder' id='viz1569150969818' style='position: relative'>` - This line creates a `div` element with a class of `tableauPlaceholder` and a unique ID. The `style` attribute positions the element relatively on the page.\n",
    "\n",
    "3. `<noscript>` - This tag contains content that will be displayed if JavaScript is disabled in the user's browser. It includes a link to an image that serves as a placeholder for the Tableau visualization.\n",
    "\n",
    "4. `<object class='tableauViz' style='display:none;'>` - This `object` element is used to embed the Tableau visualization. The `style='display:none;'` hides the object until it is fully loaded.\n",
    "\n",
    "5. `<param>` tags - These tags provide parameters to the Tableau visualization, such as the host URL, embed code version, and various display options (e.g., whether to show tabs, toolbars, and static images).\n",
    "\n",
    "6. `<script type='text/javascript'>` - This script block contains JavaScript code that dynamically adjusts the size of the embedded Tableau visualization and loads the Tableau JavaScript API.\n",
    "\n",
    "7. `var divElement = document.getElementById('viz1569150969818');` - This line retrieves the `div` element by its ID.\n",
    "\n",
    "8. `var vizElement = divElement.getElementsByTagName('object')[0];` - This retrieves the first `object` element within the `div`.\n",
    "\n",
    "9. `vizElement.style.width='100%';` - This sets the width of the visualization to 100% of the containing `div`.\n",
    "\n",
    "10. `vizElement.style.height=(divElement.offsetWidth*0.75)+'px';` - This calculates the height of the visualization based on the width of the `div`, maintaining a 4:3 aspect ratio.\n",
    "\n",
    "11. `var scriptElement = document.createElement('script');` - This creates a new script element.\n",
    "\n",
    "12. `scriptElement.src = 'https://public.tableau.com/javascripts/api/viz_v1.js';` - This sets the source of the script to the Tableau JavaScript API.\n",
    "\n",
    "13. `vizElement.parentNode.insertBefore(scriptElement, vizElement);` - This inserts the script element before the `object` element in the DOM, allowing the Tableau visualization to load and function properly."
   ]
  },
  {
   "cell_type": "markdown",
   "id": "e219c5ba-5771-4321-8b04-8261224a7e65",
   "metadata": {},
   "source": [
    "# **CORRELATION BETWEEN SURVIVAL RATE AND FARE**"
   ]
  },
  {
   "cell_type": "code",
   "execution_count": 36,
   "id": "f7a9d0c8-1215-471f-b924-d7efa494a04e",
   "metadata": {},
   "outputs": [
    {
     "data": {
      "text/html": [
       "<div class='tableauPlaceholder' id='viz1569151145008' style='position: relative'><noscript><a href='#'><img alt=' ' src='https:&#47;&#47;public.tableau.com&#47;static&#47;images&#47;Ge&#47;Genderandclasssurvivalrates7&#47;Sheet7&#47;1_rss.png' style='border: none' /></a></noscript><object class='tableauViz'  style='display:none;'><param name='host_url' value='https%3A%2F%2Fpublic.tableau.com%2F' /> <param name='embed_code_version' value='3' /> <param name='site_root' value='' /><param name='name' value='Genderandclasssurvivalrates7&#47;Sheet7' /><param name='tabs' value='no' /><param name='toolbar' value='yes' /><param name='static_image' value='https:&#47;&#47;public.tableau.com&#47;static&#47;images&#47;Ge&#47;Genderandclasssurvivalrates7&#47;Sheet7&#47;1.png' /> <param name='animate_transition' value='yes' /><param name='display_static_image' value='yes' /><param name='display_spinner' value='yes' /><param name='display_overlay' value='yes' /><param name='display_count' value='yes' /></object></div>                <script type='text/javascript'>                    var divElement = document.getElementById('viz1569151145008');                    var vizElement = divElement.getElementsByTagName('object')[0];                    vizElement.style.width='100%';vizElement.style.height=(divElement.offsetWidth*0.75)+'px';                    var scriptElement = document.createElement('script');                    scriptElement.src = 'https://public.tableau.com/javascripts/api/viz_v1.js';                    vizElement.parentNode.insertBefore(scriptElement, vizElement);                </script>\n"
      ],
      "text/plain": [
       "<IPython.core.display.HTML object>"
      ]
     },
     "metadata": {},
     "output_type": "display_data"
    }
   ],
   "source": [
    "%%HTML\n",
    "<div class='tableauPlaceholder' id='viz1569151145008' style='position: relative'><noscript><a href='#'><img alt=' ' src='https:&#47;&#47;public.tableau.com&#47;static&#47;images&#47;Ge&#47;Genderandclasssurvivalrates7&#47;Sheet7&#47;1_rss.png' style='border: none' /></a></noscript><object class='tableauViz'  style='display:none;'><param name='host_url' value='https%3A%2F%2Fpublic.tableau.com%2F' /> <param name='embed_code_version' value='3' /> <param name='site_root' value='' /><param name='name' value='Genderandclasssurvivalrates7&#47;Sheet7' /><param name='tabs' value='no' /><param name='toolbar' value='yes' /><param name='static_image' value='https:&#47;&#47;public.tableau.com&#47;static&#47;images&#47;Ge&#47;Genderandclasssurvivalrates7&#47;Sheet7&#47;1.png' /> <param name='animate_transition' value='yes' /><param name='display_static_image' value='yes' /><param name='display_spinner' value='yes' /><param name='display_overlay' value='yes' /><param name='display_count' value='yes' /></object></div>                <script type='text/javascript'>                    var divElement = document.getElementById('viz1569151145008');                    var vizElement = divElement.getElementsByTagName('object')[0];                    vizElement.style.width='100%';vizElement.style.height=(divElement.offsetWidth*0.75)+'px';                    var scriptElement = document.createElement('script');                    scriptElement.src = 'https://public.tableau.com/javascripts/api/viz_v1.js';                    vizElement.parentNode.insertBefore(scriptElement, vizElement);                </script>"
   ]
  },
  {
   "cell_type": "markdown",
   "id": "b2d1e243-2802-464b-88ac-3c492c1bade8",
   "metadata": {},
   "source": [
    "# Here's a step-by-step explanation:\n",
    "\n",
    "1. `%%HTML` - This is a cell magic command in Jupyter Notebook that allows you to write HTML code directly in the cell. The output will be rendered as HTML when the cell is executed.\n",
    "\n",
    "2. `<div class='tableauPlaceholder' id='viz1569151145008' style='position: relative'>` - This line creates a `div` element that serves as a placeholder for the Tableau visualization. The `id` attribute uniquely identifies this element, and the `style` attribute positions it relatively.\n",
    "\n",
    "3. `<noscript>` - This tag contains content that will be displayed if JavaScript is disabled in the user's browser. It includes a link to an image that represents the Tableau visualization.\n",
    "\n",
    "4. `<object class='tableauViz' style='display:none;'>` - This `object` element is used to embed the Tableau visualization. The `style='display:none;'` hides the object until it is fully loaded.\n",
    "\n",
    "5. `<param>` tags - These tags provide parameters to the Tableau visualization, such as:\n",
    "   - `host_url`: The URL of the Tableau server.\n",
    "   - `embed_code_version`: The version of the embed code.\n",
    "   - `name`: The specific Tableau sheet to display.\n",
    "   - `toolbar`, `tabs`, and other parameters control the appearance and functionality of the embedded visualization.\n",
    "\n",
    "6. `<script type='text/javascript'>` - This script block contains JavaScript code that dynamically adjusts the size of the embedded visualization and loads the Tableau JavaScript API.\n",
    "\n",
    "7. `var divElement = document.getElementById('viz1569151145008');` - This line retrieves the `div` element by its ID.\n",
    "\n",
    "8. `var vizElement = divElement.getElementsByTagName('object')[0];` - This retrieves the first `object` element within the `div`.\n",
    "\n",
    "9. `vizElement.style.width='100%';` - This sets the width of the visualization to 100% of the containing `div`.\n",
    "\n",
    "10. `vizElement.style.height=(divElement.offsetWidth*0.75)+'px';` - This sets the height of the visualization to 75% of the width of the containing `div`, maintaining a responsive aspect ratio.\n",
    "\n",
    "11. `var scriptElement = document.createElement('script');` - This creates a new script element to load the Tableau JavaScript API.\n",
    "\n",
    "12. `scriptElement.src = 'https://public.tableau.com/javascripts/api/viz_v1.js';` - This sets the source of the script to the Tableau API.\n",
    "\n",
    "13. `vizElement.parentNode.insertBefore(scriptElement, vizElement);` - This inserts the script element before the `object` element in the DOM, ensuring the Tableau API is loaded and the visualization is displayed correctly."
   ]
  },
  {
   "cell_type": "markdown",
   "id": "8d78dee2-4614-4b74-960f-145fe8a67064",
   "metadata": {},
   "source": [
    "# **CORRELATION BETWEEN GENDER AND SURVIVAL**"
   ]
  },
  {
   "cell_type": "code",
   "execution_count": 38,
   "id": "f3b78625-4b54-437a-afb7-1a5e1a57a182",
   "metadata": {},
   "outputs": [
    {
     "data": {
      "text/html": [
       "<div class='tableauPlaceholder' id='viz1569151288508' style='position: relative'><noscript><a href='#'><img alt=' ' src='https:&#47;&#47;public.tableau.com&#47;static&#47;images&#47;Ge&#47;Genderandclasssurvivalrates8&#47;Sheet8&#47;1_rss.png' style='border: none' /></a></noscript><object class='tableauViz'  style='display:none;'><param name='host_url' value='https%3A%2F%2Fpublic.tableau.com%2F' /> <param name='embed_code_version' value='3' /> <param name='site_root' value='' /><param name='name' value='Genderandclasssurvivalrates8&#47;Sheet8' /><param name='tabs' value='no' /><param name='toolbar' value='yes' /><param name='static_image' value='https:&#47;&#47;public.tableau.com&#47;static&#47;images&#47;Ge&#47;Genderandclasssurvivalrates8&#47;Sheet8&#47;1.png' /> <param name='animate_transition' value='yes' /><param name='display_static_image' value='yes' /><param name='display_spinner' value='yes' /><param name='display_overlay' value='yes' /><param name='display_count' value='yes' /></object></div>                <script type='text/javascript'>                    var divElement = document.getElementById('viz1569151288508');                    var vizElement = divElement.getElementsByTagName('object')[0];                    vizElement.style.width='100%';vizElement.style.height=(divElement.offsetWidth*0.75)+'px';                    var scriptElement = document.createElement('script');                    scriptElement.src = 'https://public.tableau.com/javascripts/api/viz_v1.js';                    vizElement.parentNode.insertBefore(scriptElement, vizElement);                </script>\n"
      ],
      "text/plain": [
       "<IPython.core.display.HTML object>"
      ]
     },
     "metadata": {},
     "output_type": "display_data"
    }
   ],
   "source": [
    "%%HTML\n",
    "<div class='tableauPlaceholder' id='viz1569151288508' style='position: relative'><noscript><a href='#'><img alt=' ' src='https:&#47;&#47;public.tableau.com&#47;static&#47;images&#47;Ge&#47;Genderandclasssurvivalrates8&#47;Sheet8&#47;1_rss.png' style='border: none' /></a></noscript><object class='tableauViz'  style='display:none;'><param name='host_url' value='https%3A%2F%2Fpublic.tableau.com%2F' /> <param name='embed_code_version' value='3' /> <param name='site_root' value='' /><param name='name' value='Genderandclasssurvivalrates8&#47;Sheet8' /><param name='tabs' value='no' /><param name='toolbar' value='yes' /><param name='static_image' value='https:&#47;&#47;public.tableau.com&#47;static&#47;images&#47;Ge&#47;Genderandclasssurvivalrates8&#47;Sheet8&#47;1.png' /> <param name='animate_transition' value='yes' /><param name='display_static_image' value='yes' /><param name='display_spinner' value='yes' /><param name='display_overlay' value='yes' /><param name='display_count' value='yes' /></object></div>                <script type='text/javascript'>                    var divElement = document.getElementById('viz1569151288508');                    var vizElement = divElement.getElementsByTagName('object')[0];                    vizElement.style.width='100%';vizElement.style.height=(divElement.offsetWidth*0.75)+'px';                    var scriptElement = document.createElement('script');                    scriptElement.src = 'https://public.tableau.com/javascripts/api/viz_v1.js';                    vizElement.parentNode.insertBefore(scriptElement, vizElement);                </script>"
   ]
  },
  {
   "cell_type": "markdown",
   "id": "5ee21f6a-37b7-44a2-bc1f-1510697be637",
   "metadata": {},
   "source": [
    "# Here's a step-by-step explanation:\n",
    "\n",
    "1. `%%HTML` - This is a cell magic command in Jupyter Notebook that allows you to write HTML code directly in the cell. The output will be rendered as HTML when the cell is executed.\n",
    "\n",
    "2. `<div class='tableauPlaceholder' id='viz1569151288508' style='position: relative'>` - This line creates a `div` element that serves as a placeholder for the Tableau visualization. The `id` attribute uniquely identifies this element, and the `style` attribute positions it relatively.\n",
    "\n",
    "3. `<noscript>` - This tag provides alternative content for users who have disabled JavaScript in their browsers. It contains a link with an image that serves as a fallback if the Tableau visualization cannot be loaded.\n",
    "\n",
    "4. `<object class='tableauViz' style='display:none;'>` - This `object` element is used to embed the Tableau visualization. The `style='display:none;'` hides the object until it is fully loaded.\n",
    "\n",
    "5. `<param>` tags - These tags define various parameters for the Tableau visualization, such as:\n",
    "   - `host_url`: The URL of the Tableau server.\n",
    "   - `embed_code_version`: The version of the embed code.\n",
    "   - `name`: The specific Tableau sheet to display.\n",
    "   - `toolbar`, `tabs`, and other parameters control the appearance and functionality of the visualization.\n",
    "\n",
    "6. `<script type='text/javascript'>` - This script block contains JavaScript code that dynamically adjusts the size of the embedded visualization and loads the Tableau JavaScript API.\n",
    "\n",
    "7. `var divElement = document.getElementById('viz1569151288508');` - This line retrieves the `div` element by its ID.\n",
    "\n",
    "8. `var vizElement = divElement.getElementsByTagName('object')[0];` - This retrieves the first `object` element within the `div`.\n",
    "\n",
    "9. `vizElement.style.width='100%';` - This sets the width of the visualization to 100% of the containing `div`.\n",
    "\n",
    "10. `vizElement.style.height=(divElement.offsetWidth*0.75)+'px';` - This calculates the height of the visualization based on the width of the `div`, maintaining a 4:3 aspect ratio.\n",
    "\n",
    "11. `var scriptElement = document.createElement('script');` - This creates a new script element to load the Tableau JavaScript API.\n",
    "\n",
    "12. `scriptElement.src = 'https://public.tableau.com/javascripts/api/viz_v1.js';` - This sets the source of the script to the Tableau API.\n",
    "\n",
    "13. `vizElement.parentNode.insertBefore(scriptElement, vizElement);` - This inserts the script element before the `object` element in the DOM, ensuring the Tableau visualization is properly initialized.\n"
   ]
  },
  {
   "cell_type": "markdown",
   "id": "c18092b6-936b-4b35-8c01-76555abd9274",
   "metadata": {},
   "source": [
    "# **SURVIVAL RATE BY EMBARKARTION POINT**"
   ]
  },
  {
   "cell_type": "code",
   "execution_count": 40,
   "id": "02e9d8f8-4091-46e3-9496-c998afbade73",
   "metadata": {},
   "outputs": [
    {
     "data": {
      "text/html": [
       "<div class='tableauPlaceholder' id='viz1569151471575' style='position: relative'><noscript><a href='#'><img alt=' ' src='https:&#47;&#47;public.tableau.com&#47;static&#47;images&#47;Ge&#47;Genderandclasssurvivalrates9&#47;Sheet9&#47;1_rss.png' style='border: none' /></a></noscript><object class='tableauViz'  style='display:none;'><param name='host_url' value='https%3A%2F%2Fpublic.tableau.com%2F' /> <param name='embed_code_version' value='3' /> <param name='site_root' value='' /><param name='name' value='Genderandclasssurvivalrates9&#47;Sheet9' /><param name='tabs' value='no' /><param name='toolbar' value='yes' /><param name='static_image' value='https:&#47;&#47;public.tableau.com&#47;static&#47;images&#47;Ge&#47;Genderandclasssurvivalrates9&#47;Sheet9&#47;1.png' /> <param name='animate_transition' value='yes' /><param name='display_static_image' value='yes' /><param name='display_spinner' value='yes' /><param name='display_overlay' value='yes' /><param name='display_count' value='yes' /></object></div>                <script type='text/javascript'>                    var divElement = document.getElementById('viz1569151471575');                    var vizElement = divElement.getElementsByTagName('object')[0];                    vizElement.style.width='100%';vizElement.style.height=(divElement.offsetWidth*0.75)+'px';                    var scriptElement = document.createElement('script');                    scriptElement.src = 'https://public.tableau.com/javascripts/api/viz_v1.js';                    vizElement.parentNode.insertBefore(scriptElement, vizElement);                </script>\n"
      ],
      "text/plain": [
       "<IPython.core.display.HTML object>"
      ]
     },
     "metadata": {},
     "output_type": "display_data"
    }
   ],
   "source": [
    "%%HTML\n",
    "<div class='tableauPlaceholder' id='viz1569151471575' style='position: relative'><noscript><a href='#'><img alt=' ' src='https:&#47;&#47;public.tableau.com&#47;static&#47;images&#47;Ge&#47;Genderandclasssurvivalrates9&#47;Sheet9&#47;1_rss.png' style='border: none' /></a></noscript><object class='tableauViz'  style='display:none;'><param name='host_url' value='https%3A%2F%2Fpublic.tableau.com%2F' /> <param name='embed_code_version' value='3' /> <param name='site_root' value='' /><param name='name' value='Genderandclasssurvivalrates9&#47;Sheet9' /><param name='tabs' value='no' /><param name='toolbar' value='yes' /><param name='static_image' value='https:&#47;&#47;public.tableau.com&#47;static&#47;images&#47;Ge&#47;Genderandclasssurvivalrates9&#47;Sheet9&#47;1.png' /> <param name='animate_transition' value='yes' /><param name='display_static_image' value='yes' /><param name='display_spinner' value='yes' /><param name='display_overlay' value='yes' /><param name='display_count' value='yes' /></object></div>                <script type='text/javascript'>                    var divElement = document.getElementById('viz1569151471575');                    var vizElement = divElement.getElementsByTagName('object')[0];                    vizElement.style.width='100%';vizElement.style.height=(divElement.offsetWidth*0.75)+'px';                    var scriptElement = document.createElement('script');                    scriptElement.src = 'https://public.tableau.com/javascripts/api/viz_v1.js';                    vizElement.parentNode.insertBefore(scriptElement, vizElement);                </script>"
   ]
  },
  {
   "cell_type": "markdown",
   "id": "16898edf-657f-406a-89de-8c33a2aca895",
   "metadata": {},
   "source": [
    "# Here's a step-by-step explanation:\n",
    "\n",
    "1. `%%HTML` - This is a cell magic command in Jupyter Notebook that allows you to write HTML code directly in the cell. The output will be rendered as HTML when the cell is executed.\n",
    "\n",
    "2. `<div class='tableauPlaceholder' id='viz1569151471575' style='position: relative'>` - This line creates a `div` element that serves as a placeholder for the Tableau visualization. The `id` attribute uniquely identifies this element, and the `style` attribute positions it relatively.\n",
    "\n",
    "3. `<noscript>` - This tag contains content that will be displayed if JavaScript is disabled in the user's browser. It includes a link to an image that represents the Tableau visualization.\n",
    "\n",
    "4. `<object class='tableauViz' style='display:none;'>` - This `object` element is used to embed the Tableau visualization. The `style='display:none;'` hides the object until it is fully loaded.\n",
    "\n",
    "5. `<param>` tags - These tags provide parameters to the Tableau visualization, such as:\n",
    "   - `host_url`: The URL of the Tableau server.\n",
    "   - `embed_code_version`: The version of the embed code.\n",
    "   - `name`: The specific Tableau sheet to display.\n",
    "   - Other parameters control the appearance and behavior of the visualization (e.g., whether to show tabs, toolbars, static images, etc.).\n",
    "\n",
    "6. `<script type='text/javascript'>` - This script block contains JavaScript code that dynamically adjusts the size of the embedded visualization and loads the Tableau JavaScript API.\n",
    "\n",
    "7. `var divElement = document.getElementById('viz1569151471575');` - This line retrieves the `div` element by its ID.\n",
    "\n",
    "8. `var vizElement = divElement.getElementsByTagName('object')[0];` - This retrieves the first `object` element within the `div`.\n",
    "\n",
    "9. `vizElement.style.width='100%';` - This sets the width of the visualization to 100% of the containing `div`.\n",
    "\n",
    "10. `vizElement.style.height=(divElement.offsetWidth*0.75)+'px';` - This calculates the height of the visualization based on the width of the `div`, maintaining a 4:3 aspect ratio.\n",
    "\n",
    "11. `var scriptElement = document.createElement('script');` - This creates a new script element.\n",
    "\n",
    "12. `scriptElement.src = 'https://public.tableau.com/javascripts/api/viz_v1.js';` - This sets the source of the script to the Tableau JavaScript API, which is necessary for rendering the visualization.\n",
    "\n",
    "13. `vizElement.parentNode.insertBefore(scriptElement, vizElement);` - This inserts the script element before the `object` element in the DOM, ensuring that the Tableau API is loaded and the visualization is displayed correctly.\n",
    "sualized in Tableau."
   ]
  },
  {
   "cell_type": "markdown",
   "id": "359fd1cc-3e4f-4cc5-a680-6bda0dc1a0b9",
   "metadata": {},
   "source": [
    "# **GENDER AND CLASS SURVIVAL RATES**"
   ]
  },
  {
   "cell_type": "code",
   "execution_count": 42,
   "id": "8c335c5f-ec3c-4678-be90-d14ad00ea45b",
   "metadata": {},
   "outputs": [
    {
     "data": {
      "text/html": [
       "<div class='tableauPlaceholder' id='viz1569202229445' style='position: relative'><noscript><a href='#'><img alt=' ' src='https:&#47;&#47;public.tableau.com&#47;static&#47;images&#47;Ge&#47;Genderandclasssurvivalrates10&#47;Sheet10&#47;1_rss.png' style='border: none' /></a></noscript><object class='tableauViz'  style='display:none;'><param name='host_url' value='https%3A%2F%2Fpublic.tableau.com%2F' /> <param name='embed_code_version' value='3' /> <param name='site_root' value='' /><param name='name' value='Genderandclasssurvivalrates10&#47;Sheet10' /><param name='tabs' value='no' /><param name='toolbar' value='yes' /><param name='static_image' value='https:&#47;&#47;public.tableau.com&#47;static&#47;images&#47;Ge&#47;Genderandclasssurvivalrates10&#47;Sheet10&#47;1.png' /> <param name='animate_transition' value='yes' /><param name='display_static_image' value='yes' /><param name='display_spinner' value='yes' /><param name='display_overlay' value='yes' /><param name='display_count' value='yes' /></object></div>                <script type='text/javascript'>                    var divElement = document.getElementById('viz1569202229445');                    var vizElement = divElement.getElementsByTagName('object')[0];                    vizElement.style.width='100%';vizElement.style.height=(divElement.offsetWidth*0.75)+'px';                    var scriptElement = document.createElement('script');                    scriptElement.src = 'https://public.tableau.com/javascripts/api/viz_v1.js';                    vizElement.parentNode.insertBefore(scriptElement, vizElement);                </script>\n"
      ],
      "text/plain": [
       "<IPython.core.display.HTML object>"
      ]
     },
     "metadata": {},
     "output_type": "display_data"
    }
   ],
   "source": [
    "%%HTML\n",
    "<div class='tableauPlaceholder' id='viz1569202229445' style='position: relative'><noscript><a href='#'><img alt=' ' src='https:&#47;&#47;public.tableau.com&#47;static&#47;images&#47;Ge&#47;Genderandclasssurvivalrates10&#47;Sheet10&#47;1_rss.png' style='border: none' /></a></noscript><object class='tableauViz'  style='display:none;'><param name='host_url' value='https%3A%2F%2Fpublic.tableau.com%2F' /> <param name='embed_code_version' value='3' /> <param name='site_root' value='' /><param name='name' value='Genderandclasssurvivalrates10&#47;Sheet10' /><param name='tabs' value='no' /><param name='toolbar' value='yes' /><param name='static_image' value='https:&#47;&#47;public.tableau.com&#47;static&#47;images&#47;Ge&#47;Genderandclasssurvivalrates10&#47;Sheet10&#47;1.png' /> <param name='animate_transition' value='yes' /><param name='display_static_image' value='yes' /><param name='display_spinner' value='yes' /><param name='display_overlay' value='yes' /><param name='display_count' value='yes' /></object></div>                <script type='text/javascript'>                    var divElement = document.getElementById('viz1569202229445');                    var vizElement = divElement.getElementsByTagName('object')[0];                    vizElement.style.width='100%';vizElement.style.height=(divElement.offsetWidth*0.75)+'px';                    var scriptElement = document.createElement('script');                    scriptElement.src = 'https://public.tableau.com/javascripts/api/viz_v1.js';                    vizElement.parentNode.insertBefore(scriptElement, vizElement);                </script>"
   ]
  },
  {
   "cell_type": "markdown",
   "id": "ac58a173-571c-4db7-a113-6c3f4d19ac1d",
   "metadata": {},
   "source": [
    "# Here's a step-by-step explanation:\n",
    "\n",
    "1. `%%HTML` - This is a cell magic command in Jupyter Notebook that allows you to write HTML code directly in the cell. The output will be rendered as HTML when the cell is executed.\n",
    "\n",
    "2. `<div class='tableauPlaceholder' id='viz1569202229445' style='position: relative'>` - This line creates a `div` element that serves as a placeholder for the Tableau visualization. The `id` attribute uniquely identifies this element, and the `style` attribute positions it relatively.\n",
    "\n",
    "3. `<noscript>` - This tag contains content that will be displayed if JavaScript is disabled in the user's browser. It includes a link to a static image of the Tableau visualization.\n",
    "\n",
    "4. `<object class='tableauViz' style='display:none;'>` - This `object` element is used to embed the Tableau visualization. The `style='display:none;'` initially hides the object until it is fully loaded.\n",
    "\n",
    "5. `<param>` tags - These parameters configure the Tableau visualization:\n",
    "   - `host_url`: Specifies the Tableau server URL.\n",
    "   - `embed_code_version`: Indicates the version of the embed code.\n",
    "   - `name`: The name of the Tableau sheet to be displayed.\n",
    "   - `tabs`, `toolbar`, `static_image`, `animate_transition`, `display_static_image`, `display_spinner`, `display_overlay`, `display_count`: Various settings that control the appearance and behavior of the visualization.\n",
    "\n",
    "6. `</object></div>` - Closes the `object` and `div` tags.\n",
    "\n",
    "7. `<script type='text/javascript'>` - This script block contains JavaScript code that dynamically adjusts the size of the embedded visualization and loads the Tableau JavaScript API.\n",
    "\n",
    "8. `var divElement = document.getElementById('viz1569202229445');` - Retrieves the `div` element by its ID.\n",
    "\n",
    "9. `var vizElement = divElement.getElementsByTagName('object')[0];` - Gets the first `object` element within the `div`.\n",
    "\n",
    "10. `vizElement.style.width='100%';` - Sets the width of the visualization to 100% of the containing `div`.\n",
    "\n",
    "11. `vizElement.style.height=(divElement.offsetWidth*0.75)+'px';` - Sets the height of the visualization to 75% of the `div`'s width, maintaining a responsive aspect ratio.\n",
    "\n",
    "12. `var scriptElement = document.createElement('script');` - Creates a new script element.\n",
    "\n",
    "13. `scriptElement.src = 'https://public.tableau.com/javascripts/api/viz_v1.js';` - Sets the source of the script to the Tableau JavaScript API.\n",
    "\n",
    "14. `vizElement.parentNode.insertBefore(scriptElement, vizElement);` - Inserts the script element before the `object` element in the DOM, which loads the Tableau API and enables the interactive features of the visualization."
   ]
  },
  {
   "cell_type": "markdown",
   "id": "26684d17-3159-4f97-b71d-c72591253c26",
   "metadata": {},
   "source": [
    "# **SURVIVORS BY FARE**"
   ]
  },
  {
   "cell_type": "code",
   "execution_count": 44,
   "id": "299a092c-b61f-4185-b507-87ab0c0d2385",
   "metadata": {},
   "outputs": [
    {
     "data": {
      "text/html": [
       "<div class='tableauPlaceholder' id='viz1569151751967' style='position: relative'><noscript><a href='#'><img alt=' ' src='https:&#47;&#47;public.tableau.com&#47;static&#47;images&#47;Ge&#47;Genderandclasssurvivalrates11&#47;Sheet11&#47;1_rss.png' style='border: none' /></a></noscript><object class='tableauViz'  style='display:none;'><param name='host_url' value='https%3A%2F%2Fpublic.tableau.com%2F' /> <param name='embed_code_version' value='3' /> <param name='site_root' value='' /><param name='name' value='Genderandclasssurvivalrates11&#47;Sheet11' /><param name='tabs' value='no' /><param name='toolbar' value='yes' /><param name='static_image' value='https:&#47;&#47;public.tableau.com&#47;static&#47;images&#47;Ge&#47;Genderandclasssurvivalrates11&#47;Sheet11&#47;1.png' /> <param name='animate_transition' value='yes' /><param name='display_static_image' value='yes' /><param name='display_spinner' value='yes' /><param name='display_overlay' value='yes' /><param name='display_count' value='yes' /></object></div>                <script type='text/javascript'>                    var divElement = document.getElementById('viz1569151751967');                    var vizElement = divElement.getElementsByTagName('object')[0];                    vizElement.style.width='100%';vizElement.style.height=(divElement.offsetWidth*0.75)+'px';                    var scriptElement = document.createElement('script');                    scriptElement.src = 'https://public.tableau.com/javascripts/api/viz_v1.js';                    vizElement.parentNode.insertBefore(scriptElement, vizElement);                </script>\n"
      ],
      "text/plain": [
       "<IPython.core.display.HTML object>"
      ]
     },
     "metadata": {},
     "output_type": "display_data"
    }
   ],
   "source": [
    "%%HTML\n",
    "<div class='tableauPlaceholder' id='viz1569151751967' style='position: relative'><noscript><a href='#'><img alt=' ' src='https:&#47;&#47;public.tableau.com&#47;static&#47;images&#47;Ge&#47;Genderandclasssurvivalrates11&#47;Sheet11&#47;1_rss.png' style='border: none' /></a></noscript><object class='tableauViz'  style='display:none;'><param name='host_url' value='https%3A%2F%2Fpublic.tableau.com%2F' /> <param name='embed_code_version' value='3' /> <param name='site_root' value='' /><param name='name' value='Genderandclasssurvivalrates11&#47;Sheet11' /><param name='tabs' value='no' /><param name='toolbar' value='yes' /><param name='static_image' value='https:&#47;&#47;public.tableau.com&#47;static&#47;images&#47;Ge&#47;Genderandclasssurvivalrates11&#47;Sheet11&#47;1.png' /> <param name='animate_transition' value='yes' /><param name='display_static_image' value='yes' /><param name='display_spinner' value='yes' /><param name='display_overlay' value='yes' /><param name='display_count' value='yes' /></object></div>                <script type='text/javascript'>                    var divElement = document.getElementById('viz1569151751967');                    var vizElement = divElement.getElementsByTagName('object')[0];                    vizElement.style.width='100%';vizElement.style.height=(divElement.offsetWidth*0.75)+'px';                    var scriptElement = document.createElement('script');                    scriptElement.src = 'https://public.tableau.com/javascripts/api/viz_v1.js';                    vizElement.parentNode.insertBefore(scriptElement, vizElement);                </script>"
   ]
  },
  {
   "cell_type": "markdown",
   "id": "cc35ba38-79e9-401b-9da0-a0b3cb0e4be6",
   "metadata": {},
   "source": [
    "# Here's a step-by-step explanation:\n",
    "\n",
    "1. `%%HTML` - This is a cell magic command in Jupyter Notebook that allows you to write HTML code directly in the cell. The output will be rendered as HTML when the cell is executed.\n",
    "\n",
    "2. `<div class='tableauPlaceholder' id='viz1569151751967' style='position: relative'>` - This line creates a `div` element that serves as a placeholder for the Tableau visualization. The `id` attribute uniquely identifies this element, and the `style` attribute positions it relatively.\n",
    "\n",
    "3. `<noscript>` - This tag contains content that will be displayed if JavaScript is disabled in the user's browser. It includes a link to an image that represents the Tableau visualization.\n",
    "\n",
    "4. `<object class='tableauViz' style='display:none;'>` - This `object` element is used to embed the Tableau visualization. The `style='display:none;'` hides the object until it is fully loaded.\n",
    "\n",
    "5. `<param>` tags - These tags provide parameters to the Tableau visualization, such as:\n",
    "   - `host_url`: The URL of the Tableau server.\n",
    "   - `embed_code_version`: The version of the embed code.\n",
    "   - `name`: The specific Tableau sheet to display.\n",
    "   - `static_image`: A static image to show before the visualization loads.\n",
    "   - Other parameters control the display of tabs, toolbars, and animations.\n",
    "\n",
    "6. `</object></div>` - These tags close the `object` and `div` elements.\n",
    "\n",
    "7. `<script type='text/javascript'>` - This script block contains JavaScript code that dynamically adjusts the size of the embedded visualization and loads the Tableau JavaScript API.\n",
    "\n",
    "8. `var divElement = document.getElementById('viz1569151751967');` - This line retrieves the `div` element by its ID.\n",
    "\n",
    "9. `var vizElement = divElement.getElementsByTagName('object')[0];` - This retrieves the first `object` element within the `div`.\n",
    "\n",
    "10. `vizElement.style.width='100%';` - This sets the width of the visualization to 100% of the containing `div`.\n",
    "\n",
    "11. `vizElement.style.height=(divElement.offsetWidth*0.75)+'px';` - This sets the height of the visualization to 75% of the `div`'s width, maintaining a specific aspect ratio.\n",
    "\n",
    "12. `var scriptElement = document.createElement('script');` - This creates a new script element.\n",
    "\n",
    "13. `scriptElement.src = 'https://public.tableau.com/javascripts/api/viz_v1.js';` - This sets the source of the script to the Tableau JavaScript API, which enables the interactive features of the visualization.\n",
    "\n",
    "14. `vizElement.parentNode.insertBefore(scriptElement, vizElement);` - This inserts the script element before the `object` element in the DOM, ensuring that the Tableau API is loaded and the visualization is rendered correctly."
   ]
  },
  {
   "cell_type": "markdown",
   "id": "3220369a-10ed-4052-906d-32d813c0be2f",
   "metadata": {},
   "source": [
    "# **CABIN WISE SURVIVORS**"
   ]
  },
  {
   "cell_type": "code",
   "execution_count": 46,
   "id": "f3ef1cde-2163-492c-9c60-982fa6061c24",
   "metadata": {},
   "outputs": [
    {
     "data": {
      "text/html": [
       "<div class='tableauPlaceholder' id='viz1569151869812' style='position: relative'><noscript><a href='#'><img alt=' ' src='https:&#47;&#47;public.tableau.com&#47;static&#47;images&#47;Ge&#47;Genderandclasssurvivalrates12&#47;Sheet12&#47;1_rss.png' style='border: none' /></a></noscript><object class='tableauViz'  style='display:none;'><param name='host_url' value='https%3A%2F%2Fpublic.tableau.com%2F' /> <param name='embed_code_version' value='3' /> <param name='site_root' value='' /><param name='name' value='Genderandclasssurvivalrates12&#47;Sheet12' /><param name='tabs' value='no' /><param name='toolbar' value='yes' /><param name='static_image' value='https:&#47;&#47;public.tableau.com&#47;static&#47;images&#47;Ge&#47;Genderandclasssurvivalrates12&#47;Sheet12&#47;1.png' /> <param name='animate_transition' value='yes' /><param name='display_static_image' value='yes' /><param name='display_spinner' value='yes' /><param name='display_overlay' value='yes' /><param name='display_count' value='yes' /></object></div>                <script type='text/javascript'>                    var divElement = document.getElementById('viz1569151869812');                    var vizElement = divElement.getElementsByTagName('object')[0];                    vizElement.style.width='100%';vizElement.style.height=(divElement.offsetWidth*0.75)+'px';                    var scriptElement = document.createElement('script');                    scriptElement.src = 'https://public.tableau.com/javascripts/api/viz_v1.js';                    vizElement.parentNode.insertBefore(scriptElement, vizElement);                </script>\n"
      ],
      "text/plain": [
       "<IPython.core.display.HTML object>"
      ]
     },
     "metadata": {},
     "output_type": "display_data"
    }
   ],
   "source": [
    "%%HTML\n",
    "<div class='tableauPlaceholder' id='viz1569151869812' style='position: relative'><noscript><a href='#'><img alt=' ' src='https:&#47;&#47;public.tableau.com&#47;static&#47;images&#47;Ge&#47;Genderandclasssurvivalrates12&#47;Sheet12&#47;1_rss.png' style='border: none' /></a></noscript><object class='tableauViz'  style='display:none;'><param name='host_url' value='https%3A%2F%2Fpublic.tableau.com%2F' /> <param name='embed_code_version' value='3' /> <param name='site_root' value='' /><param name='name' value='Genderandclasssurvivalrates12&#47;Sheet12' /><param name='tabs' value='no' /><param name='toolbar' value='yes' /><param name='static_image' value='https:&#47;&#47;public.tableau.com&#47;static&#47;images&#47;Ge&#47;Genderandclasssurvivalrates12&#47;Sheet12&#47;1.png' /> <param name='animate_transition' value='yes' /><param name='display_static_image' value='yes' /><param name='display_spinner' value='yes' /><param name='display_overlay' value='yes' /><param name='display_count' value='yes' /></object></div>                <script type='text/javascript'>                    var divElement = document.getElementById('viz1569151869812');                    var vizElement = divElement.getElementsByTagName('object')[0];                    vizElement.style.width='100%';vizElement.style.height=(divElement.offsetWidth*0.75)+'px';                    var scriptElement = document.createElement('script');                    scriptElement.src = 'https://public.tableau.com/javascripts/api/viz_v1.js';                    vizElement.parentNode.insertBefore(scriptElement, vizElement);                </script>"
   ]
  },
  {
   "cell_type": "markdown",
   "id": "de33918f-52fd-4240-95c6-404f00fc1f8a",
   "metadata": {},
   "source": [
    "# Here’s a step-by-step explanation of the code:\n",
    "\n",
    "1. `%%HTML` - This is a cell magic command in Jupyter Notebook that allows you to write HTML code directly in the cell. The output will be rendered as HTML when the cell is executed.\n",
    "\n",
    "2. `<div class='tableauPlaceholder' id='viz1569151869812' style='position: relative'>` - This line creates a `div` element that serves as a placeholder for the Tableau visualization. The `id` attribute uniquely identifies this element, and the `style` attribute positions it relatively.\n",
    "\n",
    "3. `<noscript>` - This tag contains content that will be displayed if JavaScript is disabled in the browser. It includes a link to an image that represents the Tableau visualization.\n",
    "\n",
    "4. `<object class='tableauViz' style='display:none;'>` - This `object` element is used to embed the Tableau visualization. The `style='display:none;'` hides the object until it is fully loaded.\n",
    "\n",
    "5. `<param>` tags - These tags provide parameters to the Tableau visualization, such as:\n",
    "   - `host_url`: The URL of the Tableau server.\n",
    "   - `embed_code_version`: The version of the embed code.\n",
    "   - `name`: The name of the Tableau sheet being embedded.\n",
    "   - `tabs`, `toolbar`, `static_image`, etc.: Various options for displaying the visualization.\n",
    "\n",
    "6. `<script type='text/javascript'>` - This script block contains JavaScript code that dynamically adjusts the size of the embedded visualization and loads the Tableau JavaScript API.\n",
    "\n",
    "7. `var divElement = document.getElementById('viz1569151869812');` - This line retrieves the `div` element by its ID.\n",
    "\n",
    "8. `var vizElement = divElement.getElementsByTagName('object')[0];` - This retrieves the first `object` element within the `div`.\n",
    "\n",
    "9. `vizElement.style.width='100%';` - This sets the width of the visualization to 100% of the containing `div`.\n",
    "\n",
    "10. `vizElement.style.height=(divElement.offsetWidth*0.75)+'px';` - This sets the height of the visualization to 75% of the width of the containing `div`, maintaining a responsive aspect ratio.\n",
    "\n",
    "11. `var scriptElement = document.createElement('script');` - This creates a new script element.\n",
    "\n",
    "12. `scriptElement.src = 'https://public.tableau.com/javascripts/api/viz_v1.js';` - This sets the source of the script to the Tableau JavaScript API, which is necessary for rendering the visualization.\n",
    "\n",
    "13. `vizElement.parentNode.insertBefore(scriptElement, vizElement);` - This inserts the newly created script element before the `object` element in the DOM, ensuring that the Tableau API is loaded and the visualization is rendered correctly.\n"
   ]
  }
 ],
 "metadata": {
  "kernelspec": {
   "display_name": "Python 3 (ipykernel)",
   "language": "python",
   "name": "python3"
  },
  "language_info": {
   "codemirror_mode": {
    "name": "ipython",
    "version": 3
   },
   "file_extension": ".py",
   "mimetype": "text/x-python",
   "name": "python",
   "nbconvert_exporter": "python",
   "pygments_lexer": "ipython3",
   "version": "3.12.4"
  }
 },
 "nbformat": 4,
 "nbformat_minor": 5
}
